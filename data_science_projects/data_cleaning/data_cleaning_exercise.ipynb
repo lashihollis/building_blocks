{
 "cells": [
  {
   "cell_type": "markdown",
   "id": "fe0d2d19",
   "metadata": {},
   "source": [
    "This notebook is an exercise in data cleaning using Python and pandas.\n",
    "I’ll work with a synthetic dataset (customers.csv) that contains messy, inconsistent data.\n",
    "My goal is to identify and correct null values, adjust data types where needed, standardize column names and text fields, remove duplicates, and validate the final dataset to ensure it’s ready for analysis."
   ]
  },
  {
   "cell_type": "code",
   "execution_count": 83,
   "id": "53e649f1",
   "metadata": {},
   "outputs": [
    {
     "name": "stdout",
     "output_type": "stream",
     "text": [
      "   customer_id         name              email   age country     signup_date  \\\n",
      "0            1   John Smith  user1@example.com   NaN  canada      10-03-2020   \n",
      "1            2  Emily Clark  user2@example.com   NaN      uk      2021-01-05   \n",
      "2            3   Zoe Brooks  user3@example.com  35.0      US      2021-01-05   \n",
      "3            4     Alex Kim  user4@example.com  30.0  canada      03-15-2021   \n",
      "4            5     Jane Doe                NaN  35.0     CAN  March 14, 2020   \n",
      "\n",
      "           spend  \n",
      "0         $99.99  \n",
      "1            NaN  \n",
      "2         $99.99  \n",
      "3            200  \n",
      "4  Three hundred  \n"
     ]
    }
   ],
   "source": [
    "#import libraries\n",
    "import pandas as pd\n",
    "import numpy as np\n",
    "\n",
    "#bring in file\n",
    "customers=pd.read_csv('customers.csv')\n",
    "\n",
    "#print first few rows\n",
    "print(customers.head())\n"
   ]
  },
  {
   "cell_type": "code",
   "execution_count": 84,
   "id": "4e7b96b9",
   "metadata": {},
   "outputs": [
    {
     "name": "stdout",
     "output_type": "stream",
     "text": [
      "customer_id      int64\n",
      "name            object\n",
      "email           object\n",
      "age            float64\n",
      "country         object\n",
      "signup_date     object\n",
      "spend           object\n",
      "dtype: object\n"
     ]
    }
   ],
   "source": [
    "#standardize column names and remove white space\n",
    "customers.columns = customers.columns.str.lower().str.strip()\n",
    "\n",
    "#see current datatypes\n",
    "print(customers.dtypes)"
   ]
  },
  {
   "cell_type": "code",
   "execution_count": 85,
   "id": "6df4ce8a",
   "metadata": {},
   "outputs": [
    {
     "data": {
      "text/plain": [
       "customer_id             int64\n",
       "name                   object\n",
       "email                  object\n",
       "age                   float64\n",
       "country                object\n",
       "signup_date    datetime64[ns]\n",
       "spend                 float64\n",
       "dtype: object"
      ]
     },
     "execution_count": 85,
     "metadata": {},
     "output_type": "execute_result"
    }
   ],
   "source": [
    "#convert signup date to datetime\n",
    "customers['signup_date'] = pd.to_datetime(customers['signup_date'], errors='coerce')\n",
    "\n",
    "#convert string value to number string, convert to float\n",
    "customers['spend'] = customers['spend'].replace('Three hundred', '300')\n",
    "customers['spend'] = (\n",
    "    customers['spend']\n",
    "    .replace('[$,]', '', regex=True)   # remove dollar signs/commas\n",
    "    .astype(float)\n",
    ")\n",
    "\n",
    "customers.dtypes"
   ]
  },
  {
   "cell_type": "code",
   "execution_count": 86,
   "id": "61b25345",
   "metadata": {},
   "outputs": [],
   "source": [
    "#handle missing values\n",
    "customers['email'] = customers['email'].fillna('unknown')\n",
    "customers['age'] = customers['age'].fillna(customers['age'].median())\n",
    "customers['spend'] = customers['spend'].fillna(0)\n",
    "customers['signup_date'] = customers['signup_date'].fillna(pd.to_datetime('2020-01-01'))"
   ]
  },
  {
   "cell_type": "code",
   "execution_count": 87,
   "id": "33bc235f",
   "metadata": {},
   "outputs": [
    {
     "data": {
      "text/html": [
       "<div>\n",
       "<style scoped>\n",
       "    .dataframe tbody tr th:only-of-type {\n",
       "        vertical-align: middle;\n",
       "    }\n",
       "\n",
       "    .dataframe tbody tr th {\n",
       "        vertical-align: top;\n",
       "    }\n",
       "\n",
       "    .dataframe thead th {\n",
       "        text-align: right;\n",
       "    }\n",
       "</style>\n",
       "<table border=\"1\" class=\"dataframe\">\n",
       "  <thead>\n",
       "    <tr style=\"text-align: right;\">\n",
       "      <th></th>\n",
       "      <th>customer_id</th>\n",
       "      <th>name</th>\n",
       "      <th>email</th>\n",
       "      <th>age</th>\n",
       "      <th>country</th>\n",
       "      <th>signup_date</th>\n",
       "      <th>spend</th>\n",
       "    </tr>\n",
       "  </thead>\n",
       "  <tbody>\n",
       "    <tr>\n",
       "      <th>0</th>\n",
       "      <td>1</td>\n",
       "      <td>John Smith</td>\n",
       "      <td>user1@example.com</td>\n",
       "      <td>30.0</td>\n",
       "      <td>CA</td>\n",
       "      <td>2020-10-03</td>\n",
       "      <td>99.99</td>\n",
       "    </tr>\n",
       "    <tr>\n",
       "      <th>1</th>\n",
       "      <td>2</td>\n",
       "      <td>Emily Clark</td>\n",
       "      <td>user2@example.com</td>\n",
       "      <td>30.0</td>\n",
       "      <td>UK</td>\n",
       "      <td>2020-01-01</td>\n",
       "      <td>0.00</td>\n",
       "    </tr>\n",
       "    <tr>\n",
       "      <th>2</th>\n",
       "      <td>3</td>\n",
       "      <td>Zoe Brooks</td>\n",
       "      <td>user3@example.com</td>\n",
       "      <td>35.0</td>\n",
       "      <td>US</td>\n",
       "      <td>2020-01-01</td>\n",
       "      <td>99.99</td>\n",
       "    </tr>\n",
       "    <tr>\n",
       "      <th>3</th>\n",
       "      <td>4</td>\n",
       "      <td>Alex Kim</td>\n",
       "      <td>user4@example.com</td>\n",
       "      <td>30.0</td>\n",
       "      <td>CA</td>\n",
       "      <td>2021-03-15</td>\n",
       "      <td>200.00</td>\n",
       "    </tr>\n",
       "    <tr>\n",
       "      <th>4</th>\n",
       "      <td>5</td>\n",
       "      <td>Jane Doe</td>\n",
       "      <td>unknown</td>\n",
       "      <td>35.0</td>\n",
       "      <td>CAN</td>\n",
       "      <td>2020-01-01</td>\n",
       "      <td>300.00</td>\n",
       "    </tr>\n",
       "  </tbody>\n",
       "</table>\n",
       "</div>"
      ],
      "text/plain": [
       "   customer_id         name              email   age country signup_date  \\\n",
       "0            1   John Smith  user1@example.com  30.0      CA  2020-10-03   \n",
       "1            2  Emily Clark  user2@example.com  30.0      UK  2020-01-01   \n",
       "2            3   Zoe Brooks  user3@example.com  35.0      US  2020-01-01   \n",
       "3            4     Alex Kim  user4@example.com  30.0      CA  2021-03-15   \n",
       "4            5     Jane Doe            unknown  35.0     CAN  2020-01-01   \n",
       "\n",
       "    spend  \n",
       "0   99.99  \n",
       "1    0.00  \n",
       "2   99.99  \n",
       "3  200.00  \n",
       "4  300.00  "
      ]
     },
     "execution_count": 87,
     "metadata": {},
     "output_type": "execute_result"
    }
   ],
   "source": [
    "#standardize text data\n",
    "customers['country'] = customers['country'].str.upper().replace({'USA': 'US', 'CANADA': 'CA', 'UNITED KINGDOM': 'UK'})\n",
    "customers['email'] = customers['email'].str.lower()\n",
    "\n",
    "customers['country'].unique()\n",
    "\n",
    "customers.head()"
   ]
  },
  {
   "cell_type": "code",
   "execution_count": 88,
   "id": "4950c99e",
   "metadata": {},
   "outputs": [],
   "source": [
    "#drop dupes\n",
    "customers = customers.drop_duplicates()"
   ]
  },
  {
   "cell_type": "code",
   "execution_count": 89,
   "id": "50841f51",
   "metadata": {},
   "outputs": [
    {
     "data": {
      "text/html": [
       "<div>\n",
       "<style scoped>\n",
       "    .dataframe tbody tr th:only-of-type {\n",
       "        vertical-align: middle;\n",
       "    }\n",
       "\n",
       "    .dataframe tbody tr th {\n",
       "        vertical-align: top;\n",
       "    }\n",
       "\n",
       "    .dataframe thead th {\n",
       "        text-align: right;\n",
       "    }\n",
       "</style>\n",
       "<table border=\"1\" class=\"dataframe\">\n",
       "  <thead>\n",
       "    <tr style=\"text-align: right;\">\n",
       "      <th></th>\n",
       "      <th>customer_id</th>\n",
       "      <th>age</th>\n",
       "      <th>signup_date</th>\n",
       "      <th>spend</th>\n",
       "    </tr>\n",
       "  </thead>\n",
       "  <tbody>\n",
       "    <tr>\n",
       "      <th>count</th>\n",
       "      <td>24.000000</td>\n",
       "      <td>24.000000</td>\n",
       "      <td>24</td>\n",
       "      <td>24.000000</td>\n",
       "    </tr>\n",
       "    <tr>\n",
       "      <th>mean</th>\n",
       "      <td>12.500000</td>\n",
       "      <td>31.875000</td>\n",
       "      <td>2020-06-16 06:00:00</td>\n",
       "      <td>335.415417</td>\n",
       "    </tr>\n",
       "    <tr>\n",
       "      <th>min</th>\n",
       "      <td>1.000000</td>\n",
       "      <td>25.000000</td>\n",
       "      <td>2020-01-01 00:00:00</td>\n",
       "      <td>0.000000</td>\n",
       "    </tr>\n",
       "    <tr>\n",
       "      <th>25%</th>\n",
       "      <td>6.750000</td>\n",
       "      <td>30.000000</td>\n",
       "      <td>2020-01-01 00:00:00</td>\n",
       "      <td>174.997500</td>\n",
       "    </tr>\n",
       "    <tr>\n",
       "      <th>50%</th>\n",
       "      <td>12.500000</td>\n",
       "      <td>30.000000</td>\n",
       "      <td>2020-01-01 00:00:00</td>\n",
       "      <td>300.000000</td>\n",
       "    </tr>\n",
       "    <tr>\n",
       "      <th>75%</th>\n",
       "      <td>18.250000</td>\n",
       "      <td>35.000000</td>\n",
       "      <td>2020-11-12 18:00:00</td>\n",
       "      <td>400.000000</td>\n",
       "    </tr>\n",
       "    <tr>\n",
       "      <th>max</th>\n",
       "      <td>24.000000</td>\n",
       "      <td>40.000000</td>\n",
       "      <td>2021-03-15 00:00:00</td>\n",
       "      <td>1000.000000</td>\n",
       "    </tr>\n",
       "    <tr>\n",
       "      <th>std</th>\n",
       "      <td>7.071068</td>\n",
       "      <td>4.618606</td>\n",
       "      <td>NaN</td>\n",
       "      <td>293.584293</td>\n",
       "    </tr>\n",
       "  </tbody>\n",
       "</table>\n",
       "</div>"
      ],
      "text/plain": [
       "       customer_id        age          signup_date        spend\n",
       "count    24.000000  24.000000                   24    24.000000\n",
       "mean     12.500000  31.875000  2020-06-16 06:00:00   335.415417\n",
       "min       1.000000  25.000000  2020-01-01 00:00:00     0.000000\n",
       "25%       6.750000  30.000000  2020-01-01 00:00:00   174.997500\n",
       "50%      12.500000  30.000000  2020-01-01 00:00:00   300.000000\n",
       "75%      18.250000  35.000000  2020-11-12 18:00:00   400.000000\n",
       "max      24.000000  40.000000  2021-03-15 00:00:00  1000.000000\n",
       "std       7.071068   4.618606                  NaN   293.584293"
      ]
     },
     "execution_count": 89,
     "metadata": {},
     "output_type": "execute_result"
    }
   ],
   "source": [
    "#final look at data\n",
    "customers.describe()"
   ]
  },
  {
   "cell_type": "code",
   "execution_count": 90,
   "id": "9d712262",
   "metadata": {},
   "outputs": [
    {
     "name": "stdout",
     "output_type": "stream",
     "text": [
      "    customer_id           name               email   age country signup_date  \\\n",
      "0             1     John Smith   user1@example.com  30.0      CA  2020-10-03   \n",
      "1             2    Emily Clark   user2@example.com  30.0      UK  2020-01-01   \n",
      "2             3     Zoe Brooks   user3@example.com  35.0      US  2020-01-01   \n",
      "3             4       Alex Kim   user4@example.com  30.0      CA  2021-03-15   \n",
      "4             5       Jane Doe             unknown  35.0     CAN  2020-01-01   \n",
      "5             6     Ryan Scott   user6@example.com  25.0      US  2020-10-03   \n",
      "6             7    Chris Evans   user7@example.com  30.0      UK  2020-01-01   \n",
      "7             8       Mary Lee   user8@example.com  30.0      UK  2021-03-15   \n",
      "8             9    Emily Clark   user9@example.com  30.0      CA  2020-01-01   \n",
      "9            10   Daniel Adams             unknown  30.0     CAN  2021-03-15   \n",
      "10           11     John Smith  user11@example.com  35.0      CA  2020-01-01   \n",
      "11           12    Laura Green  user12@example.com  40.0      US  2020-01-01   \n",
      "12           13     Nina Patel  user13@example.com  30.0      CA  2020-01-01   \n",
      "13           14    Chris Evans  user14@example.com  40.0      UK  2020-01-01   \n",
      "14           15     Zoe Brooks             unknown  40.0      UK  2021-03-15   \n",
      "15           16  Michael Davis  user16@example.com  30.0      UK  2020-10-03   \n",
      "16           17     John Smith  user17@example.com  25.0      UK  2020-10-03   \n",
      "17           18     John Smith  user18@example.com  30.0      CA  2020-01-01   \n",
      "18           19     Ethan Hall  user19@example.com  30.0      UK  2020-10-03   \n",
      "19           20     Ryan Scott             unknown  30.0      US  2021-03-15   \n",
      "20           21      Lisa Wong  user21@example.com  25.0      UK  2021-03-15   \n",
      "21           22    Emily Clark  user22@example.com  30.0      US  2020-01-01   \n",
      "22           23    Laura Green  user23@example.com  35.0      UK  2020-01-01   \n",
      "23           24     Nina Patel  user24@example.com  40.0      UK  2020-01-01   \n",
      "\n",
      "      spend  \n",
      "0     99.99  \n",
      "1      0.00  \n",
      "2     99.99  \n",
      "3    200.00  \n",
      "4    300.00  \n",
      "5    300.00  \n",
      "6    250.00  \n",
      "7    500.00  \n",
      "8    300.00  \n",
      "9    200.00  \n",
      "10  1000.00  \n",
      "11   400.00  \n",
      "12   400.00  \n",
      "13   500.00  \n",
      "14   400.00  \n",
      "15   300.00  \n",
      "16  1000.00  \n",
      "17   300.00  \n",
      "18   200.00  \n",
      "19  1000.00  \n",
      "20    99.99  \n",
      "21     0.00  \n",
      "22   200.00  \n",
      "23     0.00  \n"
     ]
    }
   ],
   "source": [
    "print(customers)"
   ]
  }
 ],
 "metadata": {
  "kernelspec": {
   "display_name": "Python 3",
   "language": "python",
   "name": "python3"
  },
  "language_info": {
   "codemirror_mode": {
    "name": "ipython",
    "version": 3
   },
   "file_extension": ".py",
   "mimetype": "text/x-python",
   "name": "python",
   "nbconvert_exporter": "python",
   "pygments_lexer": "ipython3",
   "version": "3.12.1"
  }
 },
 "nbformat": 4,
 "nbformat_minor": 5
}
