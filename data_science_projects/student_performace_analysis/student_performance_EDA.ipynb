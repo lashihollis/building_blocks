{
 "cells": [
  {
   "cell_type": "markdown",
   "id": "488ed248",
   "metadata": {},
   "source": [
    "## 📚 Source Data\n",
    "\n",
    "**Citation:**  \n",
    "Dua, D. and Graff, C. (2019).  \n",
    "*UCI Machine Learning Repository.*  \n",
    "Irvine, CA: University of California, School of Information and Computer Science.  \n",
    "🔗 [http://archive.ics.uci.edu/ml](http://archive.ics.uci.edu/ml)\n",
    "\n",
    "**Dataset:**  \n",
    "🎓 [Student Performance Dataset](http://archive.ics.uci.edu/ml/datasets/Student+Performance)\n",
    "\n",
    "**Contributor:**  \n",
    "Paulo Cortez — University of Minho, Guimarães, Portugal  \n",
    "🔗 [http://www3.dsi.uminho.pt/pcortez]"
   ]
  },
  {
   "cell_type": "code",
   "execution_count": 2,
   "id": "9809854c",
   "metadata": {},
   "outputs": [],
   "source": [
    "# Load libraries\n",
    "import pandas as pd\n",
    "import numpy as np\n",
    "import matplotlib.pyplot as plt\n",
    "import seaborn as sns"
   ]
  },
  {
   "cell_type": "code",
   "execution_count": 30,
   "id": "e83597ba",
   "metadata": {},
   "outputs": [],
   "source": [
    "from ucimlrepo import fetch_ucirepo \n",
    "  \n",
    "# fetch dataset \n",
    "student_performance = fetch_ucirepo(id=320) \n",
    "  \n",
    "# data (as pandas dataframes) \n",
    "X = student_performance.data.features \n",
    "y = student_performance.data.targets \n"
   ]
  },
  {
   "cell_type": "code",
   "execution_count": null,
   "id": "98b60ebe",
   "metadata": {},
   "outputs": [
    {
     "name": "stdout",
     "output_type": "stream",
     "text": [
      "\n",
      "Available columns:\n",
      "['school', 'sex', 'age', 'address', 'famsize', 'Pstatus', 'Medu', 'Fedu', 'Mjob', 'Fjob', 'reason', 'guardian', 'traveltime', 'studytime', 'failures', 'schoolsup', 'famsup', 'paid', 'activities', 'nursery', 'higher', 'internet', 'romantic', 'famrel', 'freetime', 'goout', 'Dalc', 'Walc', 'health', 'absences']\n"
     ]
    }
   ],
   "source": [
    "# Show all column names from features dataframe\n",
    "print(\"\\nAvailable columns:\")\n",
    "print(X.columns.tolist())"
   ]
  },
  {
   "cell_type": "code",
   "execution_count": null,
   "id": "5e769da9",
   "metadata": {},
   "outputs": [
    {
     "name": "stdout",
     "output_type": "stream",
     "text": [
      "\n",
      "Available columns:\n",
      "['G1', 'G2', 'G3']\n"
     ]
    }
   ],
   "source": [
    "#show all column names from target dataframe\n",
    "print(\"\\nAvailable columns:\")\n",
    "print(y.columns.tolist())"
   ]
  },
  {
   "cell_type": "code",
   "execution_count": 31,
   "id": "c5141e14",
   "metadata": {},
   "outputs": [
    {
     "data": {
      "text/html": [
       "<div>\n",
       "<style scoped>\n",
       "    .dataframe tbody tr th:only-of-type {\n",
       "        vertical-align: middle;\n",
       "    }\n",
       "\n",
       "    .dataframe tbody tr th {\n",
       "        vertical-align: top;\n",
       "    }\n",
       "\n",
       "    .dataframe thead th {\n",
       "        text-align: right;\n",
       "    }\n",
       "</style>\n",
       "<table border=\"1\" class=\"dataframe\">\n",
       "  <thead>\n",
       "    <tr style=\"text-align: right;\">\n",
       "      <th></th>\n",
       "      <th>school</th>\n",
       "      <th>math_grade</th>\n",
       "    </tr>\n",
       "  </thead>\n",
       "  <tbody>\n",
       "    <tr>\n",
       "      <th>0</th>\n",
       "      <td>GP</td>\n",
       "      <td>11</td>\n",
       "    </tr>\n",
       "    <tr>\n",
       "      <th>1</th>\n",
       "      <td>GP</td>\n",
       "      <td>11</td>\n",
       "    </tr>\n",
       "    <tr>\n",
       "      <th>2</th>\n",
       "      <td>GP</td>\n",
       "      <td>12</td>\n",
       "    </tr>\n",
       "    <tr>\n",
       "      <th>3</th>\n",
       "      <td>GP</td>\n",
       "      <td>14</td>\n",
       "    </tr>\n",
       "    <tr>\n",
       "      <th>4</th>\n",
       "      <td>GP</td>\n",
       "      <td>13</td>\n",
       "    </tr>\n",
       "  </tbody>\n",
       "</table>\n",
       "</div>"
      ],
      "text/plain": [
       "  school  math_grade\n",
       "0     GP          11\n",
       "1     GP          11\n",
       "2     GP          12\n",
       "3     GP          14\n",
       "4     GP          13"
      ]
     },
     "execution_count": 31,
     "metadata": {},
     "output_type": "execute_result"
    }
   ],
   "source": [
    "# Select specific columns from X and y and combine them\n",
    "students = pd.DataFrame()\n",
    "students['school'] = X['school']\n",
    "students['math_grade'] = y['G3']  # G3 is the final grade\n",
    "\n",
    "# Show the first few rows of the combined dataset\n",
    "students.head()"
   ]
  },
  {
   "cell_type": "code",
   "execution_count": 32,
   "id": "a1f38739",
   "metadata": {},
   "outputs": [
    {
     "name": "stdout",
     "output_type": "stream",
     "text": [
      "       school  math_grade\n",
      "count     649  649.000000\n",
      "unique      2         NaN\n",
      "top        GP         NaN\n",
      "freq      423         NaN\n",
      "mean      NaN   11.906009\n",
      "std       NaN    3.230656\n",
      "min       NaN    0.000000\n",
      "25%       NaN   10.000000\n",
      "50%       NaN   12.000000\n",
      "75%       NaN   14.000000\n",
      "max       NaN   19.000000\n"
     ]
    }
   ],
   "source": [
    "# Print summary statistics for all columns\n",
    "print(students.describe(include='all'))"
   ]
  },
  {
   "cell_type": "code",
   "execution_count": null,
   "id": "99daf21a",
   "metadata": {},
   "outputs": [
    {
     "data": {
      "text/plain": [
       "np.float64(12.0)"
      ]
     },
     "execution_count": 19,
     "metadata": {},
     "output_type": "execute_result"
    }
   ],
   "source": [
    "#median\n",
    "students.math_grade.median()"
   ]
  },
  {
   "cell_type": "code",
   "execution_count": 20,
   "id": "8a1ac8b6",
   "metadata": {},
   "outputs": [
    {
     "data": {
      "text/plain": [
       "0    11\n",
       "Name: math_grade, dtype: int64"
      ]
     },
     "execution_count": 20,
     "metadata": {},
     "output_type": "execute_result"
    }
   ],
   "source": [
    "#mode\n",
    "students.math_grade.mode()"
   ]
  },
  {
   "cell_type": "code",
   "execution_count": 22,
   "id": "7c845c7c",
   "metadata": {},
   "outputs": [
    {
     "name": "stdout",
     "output_type": "stream",
     "text": [
      "19\n"
     ]
    }
   ],
   "source": [
    "# Calculate range\n",
    "print(students.math_grade.max()- students.math_grade.min())"
   ]
  },
  {
   "cell_type": "code",
   "execution_count": null,
   "id": "27dff6ad",
   "metadata": {},
   "outputs": [
    {
     "name": "stdout",
     "output_type": "stream",
     "text": [
      "3.230656242804805\n"
     ]
    }
   ],
   "source": [
    "# Calculate standard deviation\n",
    "print(students.math_grade.std())\n"
   ]
  },
  {
   "cell_type": "code",
   "execution_count": 28,
   "id": "740ebe6d",
   "metadata": {},
   "outputs": [
    {
     "name": "stdout",
     "output_type": "stream",
     "text": [
      "\n",
      "MAD calculated manually:\n",
      "2.4058822272501725\n"
     ]
    }
   ],
   "source": [
    "# Calculate Mean Absolute Deviation (MAD)\n",
    "# MAD measures the average absolute difference between each value and the mean\n",
    "\n",
    "mean = students['math_grade'].mean()\n",
    "mad_manual = abs(students['math_grade'] - mean).mean()\n",
    "print(\"\\nMAD calculated manually:\")\n",
    "print(mad_manual)"
   ]
  },
  {
   "cell_type": "code",
   "execution_count": 29,
   "id": "294d42d5",
   "metadata": {},
   "outputs": [
    {
     "data": {
      "image/png": "[encoded data removed]",
      "text/plain": [
       "<Figure size 640x480 with 1 Axes>"
      ]
     },
     "metadata": {},
     "output_type": "display_data"
    },
    {
     "data": {
      "text/plain": [
       "<Figure size 640x480 with 0 Axes>"
      ]
     },
     "metadata": {},
     "output_type": "display_data"
    }
   ],
   "source": [
    "# Create a box plot of math grades\n",
    "sns.boxplot(x='math_grade', data=students)\n",
    "plt.show()\n",
    "plt.clf()"
   ]
  }
 ],
 "metadata": {
  "kernelspec": {
   "display_name": "Python 3",
   "language": "python",
   "name": "python3"
  },
  "language_info": {
   "codemirror_mode": {
    "name": "ipython",
    "version": 3
   },
   "file_extension": ".py",
   "mimetype": "text/x-python",
   "name": "python",
   "nbconvert_exporter": "python",
   "pygments_lexer": "ipython3",
   "version": "3.12.1"
  }
 },
 "nbformat": 4,
 "nbformat_minor": 5
}
